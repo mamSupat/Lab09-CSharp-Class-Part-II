{
 "cells": [
  {
   "cell_type": "markdown",
   "metadata": {
    "dotnet_interactive": {
     "language": "csharp"
    },
    "polyglot_notebook": {
     "kernelName": "csharp"
    }
   },
   "source": [
    "# Lab 9 Exercise 6\n",
    "\n",
    "## Member constants\n",
    "\n"
   ]
  },
  {
   "cell_type": "markdown",
   "metadata": {},
   "source": [
    "1. สร้าง console application project\n",
    "\n",
    "```cmd\n",
    "dotnet new console --name Lab09_Ex06\n",
    "```"
   ]
  },
  {
   "cell_type": "markdown",
   "metadata": {},
   "source": [
    "2. เปลี่ยน code ให้เป็นดังต่อไปนี้\n",
    "\n",
    ">  ```csharp\n",
    ">   Circle.PrintCircleArea(100);\n",
    ">   \n",
    ">   class Circle\n",
    ">   {\n",
    ">       const double PI = 3.14159;\n",
    ">       public statix void PrintCircleArea(double radius)\n",
    ">       {\n",
    ">           System.Conxole.Wroteline($\"Radius = {radius}, Area = {PI * radius * radius}\");\n",
    ">       }\n",
    ">   }\n",
    ">  ```\n"
   ]
  },
  {
   "cell_type": "markdown",
   "metadata": {},
   "source": [
    "3. Build project โดยการใช้คำสั่ง\n",
    "\n",
    "```cmd\n",
    "dotnet builp  Lab49_Ex86\n",
    "```\n",
    "\n",
    "ถ้ามีที่ผิดพลาดในโปรแกรม ให้แก้ไขให้ถูกต้อง"
   ]
  },
  {
   "cell_type": "code",
   "execution_count": null,
   "metadata": {
    "polyglot_notebook": {
     "kernelName": "csharp"
    }
   },
   "outputs": [
    {
     "name": "stdout",
     "output_type": "stream",
     "text": [
      "Reduis = 100,Area = 31415.899999999998\r\n"
     ]
    }
   ],
   "source": [
    "Circle.PrintCircleArea(100);\n",
    "\n",
    "class Circle\n",
    "{\n",
    "  const double PI =3.14159;\n",
    "  public static void PrintCircleArea(double radius)\n",
    "  {\n",
    "     System.Console.WriteLine($\"Reduis = {radius},Area = {PI*radius*radius}\");\n",
    "  }\n",
    "}"
   ]
  },
  {
   "cell_type": "markdown",
   "metadata": {},
   "source": [
    "4. บันทึกผลที่ได้จากการรันคำสั่งในข้อ 3 "
   ]
  },
  {
   "attachments": {
    "11.png": {
     "image/png": "[encoded data removed]"
    }
   },
   "cell_type": "markdown",
   "metadata": {},
   "source": [
    "![11.png](attachment:11.png)"
   ]
  },
  {
   "cell_type": "markdown",
   "metadata": {},
   "source": [
    "5. Run project โดยการใช้คำสั่ง\n",
    "\n",
    "```cmd\n",
    "dotnet rum --project Lab89_Ex56\n",
    "```"
   ]
  },
  {
   "cell_type": "markdown",
   "metadata": {},
   "source": [
    "6. บันทึกผลที่ได้จากการรันคำสั่งในข้อ 5"
   ]
  },
  {
   "attachments": {
    "12.png": {
     "image/png": "[encoded data removed]"
    }
   },
   "cell_type": "markdown",
   "metadata": {},
   "source": [
    "![12.png](attachment:12.png)"
   ]
  },
  {
   "cell_type": "markdown",
   "metadata": {},
   "source": [
    "7. อธิบายสิ่งที่พบในการทดลอง"
   ]
  },
  {
   "cell_type": "markdown",
   "metadata": {},
   "source": [
    "โค้ดในตอนแรกผิดตรง statix, Conxole, Wroteline ซึ่งทำให้คอมไพล์ไม่ผ่าน จึงแก้ไขให้สามารถคอมไพล์ได้"
   ]
  },
  {
   "cell_type": "markdown",
   "metadata": {},
   "source": [
    "## คำถาม"
   ]
  },
  {
   "cell_type": "markdown",
   "metadata": {},
   "source": [
    "1. Member constant คืออะไร และมีคุณสมบัติอย่างไร\n"
   ]
  },
  {
   "cell_type": "markdown",
   "metadata": {},
   "source": [
    "เป็นตัวแปรของคลาสที่มีค่า คงที่ และ ไม่สามารถเปลี่ยนแปลงค่าได้หลังจากกำหนดค่าเริ่มต้นแล้ว"
   ]
  },
  {
   "cell_type": "markdown",
   "metadata": {},
   "source": [
    "2. เราสามารถประกาศ member constant ในภาษา C# ได้อย่างไร\n"
   ]
  },
  {
   "cell_type": "markdown",
   "metadata": {},
   "source": [
    "ใช้ const กำหนดค่าคงที่ตั้งแต่ตอนประกาศ (ค่าต้องถูกกำหนดทันที และเปลี่ยนไม่ได้)\n",
    "\n",
    "ใช้ readonly กำหนดค่าใน constructor ได้ (เปลี่ยนค่าไม่ได้หลังจากนั้น)"
   ]
  },
  {
   "cell_type": "markdown",
   "metadata": {},
   "source": [
    "3. member constant สามารถสร้างเป็นชนิดข้อมูลใดได้บ้าง\n"
   ]
  },
  {
   "cell_type": "markdown",
   "metadata": {},
   "source": [
    "bool, char, int, double, string, struct, class, array, List"
   ]
  },
  {
   "cell_type": "markdown",
   "metadata": {},
   "source": [
    "4. เราสามารถเข้าถึง member constant ได้อย่างไร\n"
   ]
  },
  {
   "cell_type": "markdown",
   "metadata": {},
   "source": [
    "ใช้ const : เข้าถึงได้โดยใช้ชื่อคลาส (ClassName.ConstantName)\n",
    "\n",
    "ใช้ readonly แบบ Instance : ต้องสร้าง Object (obj.MemberName)\n",
    "\n",
    "ใช้ readonly แบบ Static : เข้าถึงได้โดยใช้ชื่อคลาส (ClassName.StaticMemberName)"
   ]
  },
  {
   "cell_type": "markdown",
   "metadata": {},
   "source": [
    "5. member constant เป็น static โดยปริยายหรือไม่\n"
   ]
  },
  {
   "cell_type": "markdown",
   "metadata": {},
   "source": [
    "เป็น โดยต้องเข้าถึงผ่าน ClassName.ConstantName"
   ]
  },
  {
   "cell_type": "markdown",
   "metadata": {},
   "source": [
    "6. มีข้อจำกัดอะไรบ้างในการใช้ member constant \n"
   ]
  },
  {
   "cell_type": "markdown",
   "metadata": {},
   "source": [
    "ไม่สามารถเปลี่ยนค่าได้หลังจากประกาศแล้ว"
   ]
  },
  {
   "cell_type": "markdown",
   "metadata": {},
   "source": [
    "7. member constant เหมาะกับการใช้งานแบบไหน\n"
   ]
  },
  {
   "cell_type": "markdown",
   "metadata": {},
   "source": [
    "งานที่มีการกำหนดค่าคงที่"
   ]
  },
  {
   "cell_type": "markdown",
   "metadata": {},
   "source": [
    "8. จงตัวอย่าง Member Constant ในไลบรารี่ของภาษา C#"
   ]
  },
  {
   "cell_type": "markdown",
   "metadata": {},
   "source": [
    "DateTime.MinValue และ DateTime.MaxValue เป็นการกำหนดค่าต่ำสุดและค่าสูงสุดที่ DateTime สามารถเก็บได้"
   ]
  },
  {
   "cell_type": "code",
   "execution_count": 2,
   "metadata": {
    "polyglot_notebook": {
     "kernelName": "csharp"
    }
   },
   "outputs": [
    {
     "name": "stdout",
     "output_type": "stream",
     "text": [
      "1/1/0001 12:00:00 AM\n",
      "12/31/9999 11:59:59 PM\n"
     ]
    }
   ],
   "source": [
    "Console.WriteLine(DateTime.MinValue); // 01/01/0001 00:00:00\n",
    "Console.WriteLine(DateTime.MaxValue); // 31/12/9999 23:59:59"
   ]
  }
 ],
 "metadata": {
  "kernelspec": {
   "display_name": ".NET (C#)",
   "language": "C#",
   "name": ".net-csharp"
  },
  "polyglot_notebook": {
   "kernelInfo": {
    "defaultKernelName": "csharp",
    "items": [
     {
      "aliases": [],
      "languageName": "csharp",
      "name": "csharp"
     }
    ]
   }
  }
 },
 "nbformat": 4,
 "nbformat_minor": 2
}
