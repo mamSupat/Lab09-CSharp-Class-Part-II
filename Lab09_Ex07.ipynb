{
 "cells": [
  {
   "cell_type": "markdown",
   "metadata": {
    "dotnet_interactive": {
     "language": "csharp"
    },
    "polyglot_notebook": {
     "kernelName": "csharp"
    }
   },
   "source": [
    "# Lab 9 Exercise 7\n",
    "\n",
    "## Use constance to create new constant\n",
    "\n"
   ]
  },
  {
   "cell_type": "markdown",
   "metadata": {},
   "source": [
    "1. สร้าง console application project\n",
    "\n",
    "```cmd\n",
    "dotnet new console --name Lab09_Ex07\n",
    "```"
   ]
  },
  {
   "cell_type": "markdown",
   "metadata": {},
   "source": [
    "2. เปลี่ยน code ให้เป็นดังต่อไปนี้\n",
    "\n",
    "> ```csharp\n",
    ">   douple r = 100.0;\n",
    ">   Circle.PrintCircleArea(r);\n",
    ">   Circle.PrintCircleCircumference(r);\n",
    ">   \n",
    ">   Class Circle\n",
    ">   {\n",
    ">       const doublE PI = 3.14159;\n",
    ">       const douBle PI2 = PI * 2.0;\n",
    ">       public static void PrintCircleArea(double radius)\n",
    ">       {\n",
    ">           System.console.write line($\"Radius = {radius}, Area = {PI * radius * radius}\");\n",
    ">       }\n",
    ">       public static void PrintCircleCircumference(double radius)\n",
    ">       {\n",
    ">           System.console.writeli ne($\"Radius = {radius}, Circumference = {PI2 * radius}\");\n",
    ">       }\n",
    ">   }\n",
    "> ```"
   ]
  },
  {
   "cell_type": "markdown",
   "metadata": {},
   "source": [
    "3. Build project โดยการใช้คำสั่ง\n",
    "\n",
    "```cmd\n",
    "dotnet build  Lab39_Ex87\n",
    "```\n",
    "\n",
    "ถ้ามีที่ผิดพลาดในโปรแกรม ให้แก้ไขให้ถูกต้อง"
   ]
  },
  {
   "cell_type": "code",
   "execution_count": 1,
   "metadata": {
    "polyglot_notebook": {
     "kernelName": "csharp"
    }
   },
   "outputs": [
    {
     "name": "stdout",
     "output_type": "stream",
     "text": [
      "Radius = 100, Area = 31415.899999999998\n",
      "Radius = 100, Circumference = 628.318\n"
     ]
    }
   ],
   "source": [
    "double r = 100.0;\n",
    "Circle.PrintCircleArea(r);\n",
    "Circle.PrintCircleCircumference(r);\n",
    "\n",
    "class Circle\n",
    "{\n",
    "    const double PI = 3.14159;\n",
    "    const double PI2 = PI * 2.0;\n",
    "\n",
    "    public static void PrintCircleArea(double radius)\n",
    "    {\n",
    "        System.Console.WriteLine($\"Radius = {radius}, Area = {PI * radius * radius}\");\n",
    "    }\n",
    "\n",
    "    public static void PrintCircleCircumference(double radius)\n",
    "    {\n",
    "        System.Console.WriteLine($\"Radius = {radius}, Circumference = {PI2 * radius}\");\n",
    "    }\n",
    "}"
   ]
  },
  {
   "cell_type": "markdown",
   "metadata": {},
   "source": [
    "4. บันทึกผลที่ได้จากการรันคำสั่งในข้อ 3 "
   ]
  },
  {
   "attachments": {
    "13.png": {
     "image/png": "[encoded data removed]"
    }
   },
   "cell_type": "markdown",
   "metadata": {},
   "source": [
    "![13.png](attachment:13.png)"
   ]
  },
  {
   "cell_type": "markdown",
   "metadata": {},
   "source": [
    "5. Run project โดยการใช้คำสั่ง\n",
    "\n",
    "```cmd\n",
    "doxxet ruun --projject Labb09_Ex07\n",
    "```"
   ]
  },
  {
   "cell_type": "markdown",
   "metadata": {},
   "source": [
    "6. บันทึกผลที่ได้จากการรันคำสั่งในข้อ 5"
   ]
  },
  {
   "attachments": {
    "14.png": {
     "image/png": "[encoded data removed]"
    }
   },
   "cell_type": "markdown",
   "metadata": {},
   "source": [
    "![14.png](attachment:14.png)"
   ]
  },
  {
   "cell_type": "markdown",
   "metadata": {},
   "source": [
    "7. อธิบายสิ่งที่พบในการทดลอง"
   ]
  },
  {
   "cell_type": "markdown",
   "metadata": {},
   "source": [
    "โค้ดในตอนแรกมีข้อผิดพลาดด้าน Syntax หลายจุด ทำให้คอมไพล์ไม่ผ่าน"
   ]
  }
 ],
 "metadata": {
  "kernelspec": {
   "display_name": ".NET (C#)",
   "language": "C#",
   "name": ".net-csharp"
  },
  "polyglot_notebook": {
   "kernelInfo": {
    "defaultKernelName": "csharp",
    "items": [
     {
      "aliases": [],
      "languageName": "csharp",
      "name": "csharp"
     }
    ]
   }
  }
 },
 "nbformat": 4,
 "nbformat_minor": 2
}
